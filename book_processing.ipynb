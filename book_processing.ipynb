{
 "cells": [
  {
   "cell_type": "code",
   "execution_count": 59,
   "metadata": {},
   "outputs": [],
   "source": [
    "def count_words(text):\n",
    "    '''Returns dictionary of unique words and number of times they appear'''\n",
    "    \n",
    "    # convert any uppercase letters to lowercase\n",
    "    text = text.lower()\n",
    "    \n",
    "    # remove punctuation\n",
    "    punctuation = ['.',',','!','?',';',':',\"'\",'\"']\n",
    "    for c in punctuation:\n",
    "        text = text.replace(c, '')\n",
    "    \n",
    "    # create dictionary of unique words (keys) and their counts (values)\n",
    "    word_count = {}\n",
    "    for word in text.split(' '):\n",
    "        if word in word_count.keys():\n",
    "            word_count[word] += 1\n",
    "        else:\n",
    "            word_count[word] = 1\n",
    "    \n",
    "    return word_count\n",
    "\n",
    "from collections import Counter\n",
    "import time\n",
    "\n",
    "def count_words_fast(text):\n",
    "    '''Returns dictionary of unique words and number of times they appear'''\n",
    "    text = text.lower()\n",
    "    punctuation = ['.',',','!','?',';',':',\"'\",'\"']\n",
    "    \n",
    "    for c in punctuation:\n",
    "        text = text.replace(c, '')\n",
    "    \n",
    "    word_count = Counter(test.split(' '))\n",
    "    \n",
    "    return word_count"
   ]
  },
  {
   "cell_type": "code",
   "execution_count": 61,
   "metadata": {},
   "outputs": [],
   "source": [
    "def read_book(book_path):\n",
    "    \"\"\"Reads a book and returns it as a string\"\"\"\n",
    "    with open(book_path, encoding='utf8') as f:\n",
    "        text = f.read()\n",
    "        \n",
    "    text = text.replace('\\n', '').replace('\\r', '')\n",
    "    return text\n",
    "\n",
    "def word_stats(word_count):\n",
    "    \"\"\"Returns (number of unique words, word frequencies)\"\"\"\n",
    "    n_unique = len(word_count) # number of unique words\n",
    "    counts = word_count.values()\n",
    "    \n",
    "    return (n_unique, counts)   "
   ]
  },
  {
   "cell_type": "code",
   "execution_count": 68,
   "metadata": {},
   "outputs": [
    {
     "data": {
      "text/plain": [
       "4671"
      ]
     },
     "execution_count": 68,
     "metadata": {},
     "output_type": "execute_result"
    }
   ],
   "source": [
    "# txt = read_book('./Books/German/shakespeare/Romeo und Julia.txt')\n",
    "txt = read_book('./Books/English/shakespeare/Romeo and Juliet.txt')\n",
    "\n",
    "word_counts = count_words(txt)\n",
    "(n_unique, counts) = word_stats(word_counts)\n",
    "\n",
    "n_unique"
   ]
  },
  {
   "cell_type": "code",
   "execution_count": 108,
   "metadata": {},
   "outputs": [
    {
     "data": {
      "text/html": [
       "<div>\n",
       "<style scoped>\n",
       "    .dataframe tbody tr th:only-of-type {\n",
       "        vertical-align: middle;\n",
       "    }\n",
       "\n",
       "    .dataframe tbody tr th {\n",
       "        vertical-align: top;\n",
       "    }\n",
       "\n",
       "    .dataframe thead th {\n",
       "        text-align: right;\n",
       "    }\n",
       "</style>\n",
       "<table border=\"1\" class=\"dataframe\">\n",
       "  <thead>\n",
       "    <tr style=\"text-align: right;\">\n",
       "      <th></th>\n",
       "      <th>language</th>\n",
       "      <th>author</th>\n",
       "      <th>title</th>\n",
       "      <th>length</th>\n",
       "      <th>unique</th>\n",
       "    </tr>\n",
       "  </thead>\n",
       "  <tbody>\n",
       "    <tr>\n",
       "      <th>1</th>\n",
       "      <td>English</td>\n",
       "      <td>Shakespeare</td>\n",
       "      <td>A Midsummer Night's Dream</td>\n",
       "      <td>16103</td>\n",
       "      <td>4345</td>\n",
       "    </tr>\n",
       "    <tr>\n",
       "      <th>2</th>\n",
       "      <td>English</td>\n",
       "      <td>Shakespeare</td>\n",
       "      <td>Hamlet</td>\n",
       "      <td>28551</td>\n",
       "      <td>6776</td>\n",
       "    </tr>\n",
       "    <tr>\n",
       "      <th>3</th>\n",
       "      <td>English</td>\n",
       "      <td>Shakespeare</td>\n",
       "      <td>Macbeth</td>\n",
       "      <td>16874</td>\n",
       "      <td>4780</td>\n",
       "    </tr>\n",
       "    <tr>\n",
       "      <th>4</th>\n",
       "      <td>English</td>\n",
       "      <td>Shakespeare</td>\n",
       "      <td>Othello</td>\n",
       "      <td>26590</td>\n",
       "      <td>5898</td>\n",
       "    </tr>\n",
       "    <tr>\n",
       "      <th>5</th>\n",
       "      <td>English</td>\n",
       "      <td>Shakespeare</td>\n",
       "      <td>Richard III</td>\n",
       "      <td>48315</td>\n",
       "      <td>5060</td>\n",
       "    </tr>\n",
       "  </tbody>\n",
       "</table>\n",
       "</div>"
      ],
      "text/plain": [
       "  language       author                      title length unique\n",
       "1  English  Shakespeare  A Midsummer Night's Dream  16103   4345\n",
       "2  English  Shakespeare                     Hamlet  28551   6776\n",
       "3  English  Shakespeare                    Macbeth  16874   4780\n",
       "4  English  Shakespeare                    Othello  26590   5898\n",
       "5  English  Shakespeare                Richard III  48315   5060"
      ]
     },
     "execution_count": 108,
     "metadata": {},
     "output_type": "execute_result"
    }
   ],
   "source": [
    "# create list of all the book paths\n",
    "import os\n",
    "import pandas as pd\n",
    "\n",
    "stats = pd.DataFrame(columns = ('language', 'author', 'title', 'length', 'unique'))\n",
    "n_title = 1\n",
    "\n",
    "base_dir = './Books'\n",
    "book_paths = []\n",
    "for language in os.listdir(base_dir):\n",
    "    for author in os.listdir(base_dir + '/' + language):\n",
    "        for title in os.listdir(base_dir + '/' + language + '/' + author):\n",
    "            current_path = base_dir + '/' + language + '/' + author + '/' + title\n",
    "            book_paths.append(current_path)\n",
    "            txt = read_book(current_path)\n",
    "            (n_unique, counts) = word_stats(count_words(txt))\n",
    "            stats.loc[n_title] = language, author.capitalize(), title.replace('.txt', ''), sum(counts), n_unique\n",
    "            n_title += 1\n",
    "\n",
    "stats.head()"
   ]
  },
  {
   "cell_type": "code",
   "execution_count": 94,
   "metadata": {},
   "outputs": [
    {
     "data": {
      "image/png": "[encoded data removed]",
      "text/plain": [
       "<matplotlib.figure.Figure at 0x7fedcb9c32b0>"
      ]
     },
     "metadata": {},
     "output_type": "display_data"
    }
   ],
   "source": [
    "import matplotlib.pyplot as plt\n",
    "\n",
    "plt.loglog(stats.length, stats.unique, 'bo')\n",
    "plt.xlabel('Length of book')\n",
    "plt.ylabel('Number of unique words')\n",
    "plt.show()"
   ]
  },
  {
   "cell_type": "code",
   "execution_count": 104,
   "metadata": {},
   "outputs": [
    {
     "data": {
      "image/png": "[encoded data removed]",
      "text/plain": [
       "<matplotlib.figure.Figure at 0x7fedcb7cb208>"
      ]
     },
     "metadata": {},
     "output_type": "display_data"
    }
   ],
   "source": [
    "plt.figure(figsize = (10,10))\n",
    "\n",
    "subset = stats[stats.language == 'English']\n",
    "plt.loglog(subset.length, subset.unique, 'o', label='English', color='crimson')\n",
    "\n",
    "subset = stats[stats.language == 'French']\n",
    "plt.loglog(subset.length, subset.unique, 'o', label='French', color='forestgreen')\n",
    "\n",
    "subset = stats[stats.language == 'German']\n",
    "plt.loglog(subset.length, subset.unique, 'o', label='German', color='orange')\n",
    "\n",
    "subset = stats[stats.language == 'Portuguese']\n",
    "plt.loglog(subset.length, subset.unique, 'o', label='Portuguese', color='blueviolet')\n",
    "\n",
    "plt.xlabel('Book length')\n",
    "plt.ylabel('Number of unique words')\n",
    "plt.legend()\n",
    "plt.show()"
   ]
  }
 ],
 "metadata": {
  "kernelspec": {
   "display_name": "Python 3",
   "language": "python",
   "name": "python3"
  },
  "language_info": {
   "codemirror_mode": {
    "name": "ipython",
    "version": 3
   },
   "file_extension": ".py",
   "mimetype": "text/x-python",
   "name": "python",
   "nbconvert_exporter": "python",
   "pygments_lexer": "ipython3",
   "version": "3.6.4"
  }
 },
 "nbformat": 4,
 "nbformat_minor": 2
}
